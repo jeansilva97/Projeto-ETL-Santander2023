{
 "cells": [
  {
   "cell_type": "code",
   "execution_count": 1,
   "id": "f2621897-0347-4e45-bf46-1e4dd6765ad9",
   "metadata": {},
   "outputs": [],
   "source": [
    "#Importando biblioteca pandas:\n",
    "import pandas as pd"
   ]
  },
  {
   "cell_type": "code",
   "execution_count": 2,
   "id": "0a978848-74bf-4673-a73e-6147c70833cf",
   "metadata": {},
   "outputs": [],
   "source": [
    "#Importando base de dados:\n",
    "dados_Banco = pd.read_csv(\"infoBanc.csv\", sep = \";\")"
   ]
  },
  {
   "cell_type": "code",
   "execution_count": 3,
   "id": "cbfc544e-4132-4db5-98eb-9f2f735fd1c6",
   "metadata": {},
   "outputs": [
    {
     "data": {
      "text/html": [
       "<div>\n",
       "<style scoped>\n",
       "    .dataframe tbody tr th:only-of-type {\n",
       "        vertical-align: middle;\n",
       "    }\n",
       "\n",
       "    .dataframe tbody tr th {\n",
       "        vertical-align: top;\n",
       "    }\n",
       "\n",
       "    .dataframe thead th {\n",
       "        text-align: right;\n",
       "    }\n",
       "</style>\n",
       "<table border=\"1\" class=\"dataframe\">\n",
       "  <thead>\n",
       "    <tr style=\"text-align: right;\">\n",
       "      <th></th>\n",
       "      <th>Id</th>\n",
       "      <th>Estado</th>\n",
       "      <th>Genero</th>\n",
       "      <th>Idade</th>\n",
       "    </tr>\n",
       "  </thead>\n",
       "  <tbody>\n",
       "    <tr>\n",
       "      <th>0</th>\n",
       "      <td>1</td>\n",
       "      <td>RS</td>\n",
       "      <td>Feminino</td>\n",
       "      <td>42</td>\n",
       "    </tr>\n",
       "    <tr>\n",
       "      <th>1</th>\n",
       "      <td>2</td>\n",
       "      <td>SC</td>\n",
       "      <td>Feminino</td>\n",
       "      <td>41</td>\n",
       "    </tr>\n",
       "    <tr>\n",
       "      <th>2</th>\n",
       "      <td>3</td>\n",
       "      <td>RS</td>\n",
       "      <td>Feminino</td>\n",
       "      <td>42</td>\n",
       "    </tr>\n",
       "    <tr>\n",
       "      <th>3</th>\n",
       "      <td>4</td>\n",
       "      <td>RS</td>\n",
       "      <td>Feminino</td>\n",
       "      <td>39</td>\n",
       "    </tr>\n",
       "    <tr>\n",
       "      <th>4</th>\n",
       "      <td>5</td>\n",
       "      <td>SC</td>\n",
       "      <td>Feminino</td>\n",
       "      <td>43</td>\n",
       "    </tr>\n",
       "  </tbody>\n",
       "</table>\n",
       "</div>"
      ],
      "text/plain": [
       "   Id Estado    Genero  Idade\n",
       "0   1     RS  Feminino     42\n",
       "1   2     SC  Feminino     41\n",
       "2   3     RS  Feminino     42\n",
       "3   4     RS  Feminino     39\n",
       "4   5     SC  Feminino     43"
      ]
     },
     "execution_count": 3,
     "metadata": {},
     "output_type": "execute_result"
    }
   ],
   "source": [
    "#Observando base de dados:\n",
    "dados_Banco.head()"
   ]
  },
  {
   "cell_type": "code",
   "execution_count": 4,
   "id": "1c800d11-4ad6-4fef-8b82-c7d29ca1fa80",
   "metadata": {},
   "outputs": [
    {
     "data": {
      "text/html": [
       "<div>\n",
       "<style scoped>\n",
       "    .dataframe tbody tr th:only-of-type {\n",
       "        vertical-align: middle;\n",
       "    }\n",
       "\n",
       "    .dataframe tbody tr th {\n",
       "        vertical-align: top;\n",
       "    }\n",
       "\n",
       "    .dataframe thead th {\n",
       "        text-align: right;\n",
       "    }\n",
       "</style>\n",
       "<table border=\"1\" class=\"dataframe\">\n",
       "  <thead>\n",
       "    <tr style=\"text-align: right;\">\n",
       "      <th></th>\n",
       "      <th>Id</th>\n",
       "      <th>Estado</th>\n",
       "      <th>Genero</th>\n",
       "      <th>Idade</th>\n",
       "    </tr>\n",
       "  </thead>\n",
       "  <tbody>\n",
       "    <tr>\n",
       "      <th>80</th>\n",
       "      <td>81</td>\n",
       "      <td>RS</td>\n",
       "      <td>Feminino</td>\n",
       "      <td>34</td>\n",
       "    </tr>\n",
       "    <tr>\n",
       "      <th>81</th>\n",
       "      <td>81</td>\n",
       "      <td>RS</td>\n",
       "      <td>Feminino</td>\n",
       "      <td>34</td>\n",
       "    </tr>\n",
       "  </tbody>\n",
       "</table>\n",
       "</div>"
      ],
      "text/plain": [
       "    Id Estado    Genero  Idade\n",
       "80  81     RS  Feminino     34\n",
       "81  81     RS  Feminino     34"
      ]
     },
     "execution_count": 4,
     "metadata": {},
     "output_type": "execute_result"
    }
   ],
   "source": [
    "#Verificando se existe alguma duplcidade de \"Id\" que é código único do cliente:\n",
    "dados_Banco[dados_Banco.duplicated([\"Id\"], keep = False)]"
   ]
  },
  {
   "cell_type": "code",
   "execution_count": 5,
   "id": "b5141443-7166-44cc-93e3-33f1f58c9c5d",
   "metadata": {},
   "outputs": [],
   "source": [
    "#Excluindo a duplicidade pelo Id:\n",
    "dados_Banco.drop_duplicates(subset = \"Id\", keep = \"first\", inplace = True)\n"
   ]
  },
  {
   "cell_type": "code",
   "execution_count": 6,
   "id": "20421512-dd11-4579-829c-f4fed4f64e91",
   "metadata": {},
   "outputs": [
    {
     "data": {
      "text/plain": [
       "Id        0\n",
       "Estado    0\n",
       "Genero    8\n",
       "Idade     0\n",
       "dtype: int64"
      ]
     },
     "execution_count": 6,
     "metadata": {},
     "output_type": "execute_result"
    }
   ],
   "source": [
    "#Verificando se alguma das colunas possuem valores NAN:\n",
    "dados_Banco.isnull().sum()"
   ]
  },
  {
   "cell_type": "code",
   "execution_count": 7,
   "id": "997a97bf-99ad-4814-834a-8a4c82eba388",
   "metadata": {},
   "outputs": [
    {
     "data": {
      "text/plain": [
       "Estado\n",
       "PR    257\n",
       "RP      1\n",
       "RS    477\n",
       "SC    258\n",
       "SP      4\n",
       "TD      1\n",
       "dtype: int64"
      ]
     },
     "execution_count": 7,
     "metadata": {},
     "output_type": "execute_result"
    }
   ],
   "source": [
    "#Agrupando as informações relativas a coluna \"Estado\" para verificar se existe algum sigla errada e a quantidade ocorrencias:\n",
    "agrupado_Estado = dados_Banco.groupby([\"Estado\"]).size()\n",
    "agrupado_Estado"
   ]
  },
  {
   "cell_type": "code",
   "execution_count": 8,
   "id": "095a9409-2d43-4a58-a14a-a6adf39e4186",
   "metadata": {},
   "outputs": [],
   "source": [
    "#Substituindo as siglas de Estado não existentes pela sigla moda:\n",
    "dados_Banco.loc[dados_Banco[\"Estado\"].isin([\"RP\", \"TD\"]), \"Estado\"] = \"RS\""
   ]
  },
  {
   "cell_type": "code",
   "execution_count": 9,
   "id": "742acfcf-823a-4008-8ce0-a32abeb9a8b9",
   "metadata": {},
   "outputs": [
    {
     "data": {
      "text/plain": [
       "Genero\n",
       "F              2\n",
       "Fem            1\n",
       "Feminino     460\n",
       "M              6\n",
       "Masculino    521\n",
       "dtype: int64"
      ]
     },
     "execution_count": 9,
     "metadata": {},
     "output_type": "execute_result"
    }
   ],
   "source": [
    "#Agrupando as informações relativas a coluna \"Genero\" para verificar se existe alguma defasagem e a quantidade ocorrencias:\n",
    "agrupado_Genero = dados_Banco.groupby([\"Genero\"]).size()\n",
    "agrupado_Genero\n"
   ]
  },
  {
   "cell_type": "code",
   "execution_count": 10,
   "id": "4cd09e9a-576c-4493-b4ac-a742cd911ca6",
   "metadata": {},
   "outputs": [],
   "source": [
    "#Substituindo valor NAN da categoria \"Genero\" pela moda:\n",
    "dados_Banco[\"Genero\"].fillna(\"Masculino\", inplace = True)"
   ]
  },
  {
   "cell_type": "code",
   "execution_count": 11,
   "id": "56560b83-7876-4e1e-a761-75be39bb5b6d",
   "metadata": {},
   "outputs": [],
   "source": [
    "#Coluna \"Genero\" esta preenchida de maneira despradronizada, iremos padronizar:\n",
    "dados_Banco.loc[dados_Banco[\"Genero\"] == \"M\", \"Genero\"] = \"Masculino\"\n",
    "dados_Banco.loc[dados_Banco[\"Genero\"].isin( [ \"Fem\", \"F\"]), \"Genero\"] = \"Feminino\""
   ]
  },
  {
   "cell_type": "code",
   "execution_count": 12,
   "id": "adaaff6b-81f6-42d3-a997-ab2002dc5b9d",
   "metadata": {},
   "outputs": [
    {
     "data": {
      "text/plain": [
       "Genero\n",
       "Feminino     463\n",
       "Masculino    535\n",
       "dtype: int64"
      ]
     },
     "execution_count": 12,
     "metadata": {},
     "output_type": "execute_result"
    }
   ],
   "source": [
    "#grupando coluna \"Genero\" por pelas classificações para verificar se as alterações foram feitas corretamente:\n",
    "agrupado_Genero =dados_Banco.groupby([\"Genero\"]).size()\n",
    "agrupado_Genero"
   ]
  },
  {
   "cell_type": "code",
   "execution_count": 13,
   "id": "a47a2694-0b13-4c6a-aeb0-25db8ebd1f97",
   "metadata": {},
   "outputs": [
    {
     "data": {
      "text/plain": [
       "count    998.000000\n",
       "mean      38.907816\n",
       "std       11.406570\n",
       "min      -20.000000\n",
       "25%       32.000000\n",
       "50%       37.000000\n",
       "75%       44.000000\n",
       "max      140.000000\n",
       "Name: Idade, dtype: float64"
      ]
     },
     "execution_count": 13,
     "metadata": {},
     "output_type": "execute_result"
    }
   ],
   "source": [
    "#Observando informações estatisticas da coluna de idade (dado numerico):\n",
    "dados_Banco[\"Idade\"].describe()"
   ]
  },
  {
   "cell_type": "code",
   "execution_count": 16,
   "id": "aac6c739-d2bb-44d3-bbf5-e476af6db99e",
   "metadata": {},
   "outputs": [
    {
     "data": {
      "text/html": [
       "<div>\n",
       "<style scoped>\n",
       "    .dataframe tbody tr th:only-of-type {\n",
       "        vertical-align: middle;\n",
       "    }\n",
       "\n",
       "    .dataframe tbody tr th {\n",
       "        vertical-align: top;\n",
       "    }\n",
       "\n",
       "    .dataframe thead th {\n",
       "        text-align: right;\n",
       "    }\n",
       "</style>\n",
       "<table border=\"1\" class=\"dataframe\">\n",
       "  <thead>\n",
       "    <tr style=\"text-align: right;\">\n",
       "      <th></th>\n",
       "      <th>Id</th>\n",
       "      <th>Estado</th>\n",
       "      <th>Genero</th>\n",
       "      <th>Idade</th>\n",
       "    </tr>\n",
       "  </thead>\n",
       "  <tbody>\n",
       "    <tr>\n",
       "      <th>867</th>\n",
       "      <td>869</td>\n",
       "      <td>RS</td>\n",
       "      <td>Feminino</td>\n",
       "      <td>-10</td>\n",
       "    </tr>\n",
       "    <tr>\n",
       "      <th>984</th>\n",
       "      <td>986</td>\n",
       "      <td>RS</td>\n",
       "      <td>Masculino</td>\n",
       "      <td>-20</td>\n",
       "    </tr>\n",
       "    <tr>\n",
       "      <th>990</th>\n",
       "      <td>992</td>\n",
       "      <td>RS</td>\n",
       "      <td>Masculino</td>\n",
       "      <td>140</td>\n",
       "    </tr>\n",
       "  </tbody>\n",
       "</table>\n",
       "</div>"
      ],
      "text/plain": [
       "      Id Estado     Genero  Idade\n",
       "867  869     RS   Feminino    -10\n",
       "984  986     RS  Masculino    -20\n",
       "990  992     RS  Masculino    140"
      ]
     },
     "execution_count": 16,
     "metadata": {},
     "output_type": "execute_result"
    }
   ],
   "source": [
    "#Ajustando as idades fora do dominio:\n",
    "#Visualizando dados em que a coluna idade é menor que 0 e maior que 120:\n",
    "dados_Banco.loc[(dados_Banco[\"Idade\"] < 0) | (dados_Banco[\"Idade\"] > 120)]"
   ]
  },
  {
   "cell_type": "code",
   "execution_count": 19,
   "id": "43c10334-f8a5-4bff-8505-ea8bce720e46",
   "metadata": {},
   "outputs": [
    {
     "data": {
      "text/plain": [
       "37.0"
      ]
     },
     "execution_count": 19,
     "metadata": {},
     "output_type": "execute_result"
    }
   ],
   "source": [
    "#Calculando a mediana da idade:\n",
    "mediana_Idade = dados_Banco[\"Idade\"].median()\n",
    "mediana_Idade"
   ]
  },
  {
   "cell_type": "code",
   "execution_count": 20,
   "id": "7de4a875-f7dc-4e1f-b95c-54d05b1e365a",
   "metadata": {},
   "outputs": [],
   "source": [
    "#Substituindo idades fora do dominio pela mediana:\n",
    "dados_Banco.loc[(dados_Banco[\"Idade\"] < 0 ) | (dados_Banco[\"Idade\"] > 120), \"Idade\"] = mediana_Idade"
   ]
  },
  {
   "cell_type": "code",
   "execution_count": 23,
   "id": "883c70fe-43cc-4b93-88b2-61303850df4e",
   "metadata": {},
   "outputs": [],
   "source": [
    "#Colocando dados modificados em um novo CSV:\n",
    "dados_Banco.to_csv('novo_arquivo.csv', index=False)"
   ]
  },
  {
   "cell_type": "code",
   "execution_count": null,
   "id": "66e58a62-3f20-4a57-b871-4ecf5042e703",
   "metadata": {},
   "outputs": [],
   "source": []
  }
 ],
 "metadata": {
  "kernelspec": {
   "display_name": "Python 3 (ipykernel)",
   "language": "python",
   "name": "python3"
  },
  "language_info": {
   "codemirror_mode": {
    "name": "ipython",
    "version": 3
   },
   "file_extension": ".py",
   "mimetype": "text/x-python",
   "name": "python",
   "nbconvert_exporter": "python",
   "pygments_lexer": "ipython3",
   "version": "3.9.7"
  }
 },
 "nbformat": 4,
 "nbformat_minor": 5
}
